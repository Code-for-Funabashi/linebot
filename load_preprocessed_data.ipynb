{
 "cells": [
  {
   "cell_type": "code",
   "execution_count": 4,
   "id": "valued-promotion",
   "metadata": {},
   "outputs": [
    {
     "name": "stdout",
     "output_type": "stream",
     "text": [
      "Collecting lxml\n",
      "  Downloading lxml-4.6.3-cp38-cp38-manylinux1_x86_64.whl (5.4 MB)\n",
      "\u001b[K     |████████████████████████████████| 5.4 MB 2.5 MB/s eta 0:00:01     |█████████▏                      | 1.6 MB 2.5 MB/s eta 0:00:02\n",
      "\u001b[?25hInstalling collected packages: lxml\n",
      "Successfully installed lxml-4.6.3\n",
      "Note: you may need to restart the kernel to use updated packages.\n"
     ]
    }
   ],
   "source": [
    "pip install lxml"
   ]
  },
  {
   "cell_type": "code",
   "execution_count": 1,
   "id": "tribal-supplement",
   "metadata": {},
   "outputs": [],
   "source": [
    "import pandas as pd"
   ]
  },
  {
   "cell_type": "code",
   "execution_count": 4,
   "id": "cardiovascular-necessity",
   "metadata": {},
   "outputs": [],
   "source": [
    "sample_df = pd.read_html(\"./bargage.html\")[1]"
   ]
  },
  {
   "cell_type": "code",
   "execution_count": 11,
   "id": "pursuant-beach",
   "metadata": {},
   "outputs": [],
   "source": [
    "DAY_NIGHT_COLUMN = 3\n",
    "sample_df.iloc[:, DAY_NIGHT_COLUMN] = sample_df.iloc[:, DAY_NIGHT_COLUMN].map(lambda x: x==\"(夜)\").astype(int)"
   ]
  },
  {
   "cell_type": "code",
   "execution_count": 14,
   "id": "ready-galaxy",
   "metadata": {},
   "outputs": [],
   "source": [
    "weekdic = {\"月\":0, \"火\":1, \"水\":2, \"木\":3, \"金\":4, \"土\":5, \"日\":6}"
   ]
  },
  {
   "cell_type": "code",
   "execution_count": 60,
   "id": "smart-guarantee",
   "metadata": {},
   "outputs": [
    {
     "data": {
      "text/html": [
       "<div>\n",
       "<style scoped>\n",
       "    .dataframe tbody tr th:only-of-type {\n",
       "        vertical-align: middle;\n",
       "    }\n",
       "\n",
       "    .dataframe tbody tr th {\n",
       "        vertical-align: top;\n",
       "    }\n",
       "\n",
       "    .dataframe thead tr th {\n",
       "        text-align: left;\n",
       "    }\n",
       "</style>\n",
       "<table border=\"1\" class=\"dataframe\">\n",
       "  <thead>\n",
       "    <tr>\n",
       "      <th></th>\n",
       "      <th colspan=\"2\" halign=\"left\">町 名</th>\n",
       "      <th colspan=\"2\" halign=\"left\">可燃</th>\n",
       "      <th>不燃</th>\n",
       "      <th>資源  ペット</th>\n",
       "      <th>有価物</th>\n",
       "      <th>番地詳細</th>\n",
       "    </tr>\n",
       "    <tr>\n",
       "      <th></th>\n",
       "      <th>町 名</th>\n",
       "      <th>町 名.1</th>\n",
       "      <th>可燃</th>\n",
       "      <th>可燃.1</th>\n",
       "      <th>不燃</th>\n",
       "      <th>資源  ペット</th>\n",
       "      <th>有価物</th>\n",
       "      <th>番地詳細</th>\n",
       "    </tr>\n",
       "  </thead>\n",
       "  <tbody>\n",
       "    <tr>\n",
       "      <th>0</th>\n",
       "      <td>あ</td>\n",
       "      <td>旭町1丁目</td>\n",
       "      <td>0,3</td>\n",
       "      <td>1</td>\n",
       "      <td>2木</td>\n",
       "      <td>水</td>\n",
       "      <td>水</td>\n",
       "      <td>NaN</td>\n",
       "    </tr>\n",
       "    <tr>\n",
       "      <th>1</th>\n",
       "      <td>あ</td>\n",
       "      <td>旭町2丁目</td>\n",
       "      <td>0,3</td>\n",
       "      <td>1</td>\n",
       "      <td>4木</td>\n",
       "      <td>水</td>\n",
       "      <td>水</td>\n",
       "      <td>1～18,23～27</td>\n",
       "    </tr>\n",
       "    <tr>\n",
       "      <th>2</th>\n",
       "      <td>あ</td>\n",
       "      <td>旭町2丁目</td>\n",
       "      <td>0,3</td>\n",
       "      <td>1</td>\n",
       "      <td>4木</td>\n",
       "      <td>水</td>\n",
       "      <td>木</td>\n",
       "      <td>19～22</td>\n",
       "    </tr>\n",
       "    <tr>\n",
       "      <th>3</th>\n",
       "      <td>あ</td>\n",
       "      <td>旭町3丁目</td>\n",
       "      <td>0,3</td>\n",
       "      <td>1</td>\n",
       "      <td>4木</td>\n",
       "      <td>水</td>\n",
       "      <td>水</td>\n",
       "      <td>1～21</td>\n",
       "    </tr>\n",
       "    <tr>\n",
       "      <th>4</th>\n",
       "      <td>あ</td>\n",
       "      <td>旭町3丁目</td>\n",
       "      <td>0,3</td>\n",
       "      <td>1</td>\n",
       "      <td>4木</td>\n",
       "      <td>水</td>\n",
       "      <td>木</td>\n",
       "      <td>22の一部</td>\n",
       "    </tr>\n",
       "  </tbody>\n",
       "</table>\n",
       "</div>"
      ],
      "text/plain": [
       "  町 名          可燃       不燃 資源  ペット 有価物        番地詳細\n",
       "  町 名  町 名.1   可燃 可燃.1  不燃 資源  ペット 有価物        番地詳細\n",
       "0   あ  旭町1丁目  0,3    1  2木       水   水         NaN\n",
       "1   あ  旭町2丁目  0,3    1  4木       水   水  1～18,23～27\n",
       "2   あ  旭町2丁目  0,3    1  4木       水   木       19～22\n",
       "3   あ  旭町3丁目  0,3    1  4木       水   水        1～21\n",
       "4   あ  旭町3丁目  0,3    1  4木       水   木       22の一部"
      ]
     },
     "execution_count": 60,
     "metadata": {},
     "output_type": "execute_result"
    }
   ],
   "source": [
    "sample_df.head()"
   ]
  },
  {
   "cell_type": "code",
   "execution_count": 58,
   "id": "diverse-special",
   "metadata": {},
   "outputs": [],
   "source": [
    "# sample_df.iloc[:, BURNABLE_WD]"
   ]
  },
  {
   "cell_type": "code",
   "execution_count": 35,
   "id": "excessive-experience",
   "metadata": {},
   "outputs": [],
   "source": [
    "# 可燃\n",
    "BURNABLE_WD = 2"
   ]
  },
  {
   "cell_type": "code",
   "execution_count": 59,
   "id": "stretch-rogers",
   "metadata": {},
   "outputs": [],
   "source": [
    "sample_df.iloc[:, BURNABLE_WD] = sample_df.iloc[:, BURNABLE_WD].map(\n",
    "            lambda x: \",\".join([str(weekdic[wd]) for wd in list(x)])\n",
    ")"
   ]
  },
  {
   "cell_type": "code",
   "execution_count": 61,
   "id": "brief-practice",
   "metadata": {},
   "outputs": [],
   "source": [
    "# 不燃\n",
    "NON_BURNABLE_WD = 4\n",
    "\n",
    "non_burn_df = sample_df.iloc[:, NON_BURNABLE_WD].str.split(\"\", expand=True).iloc[:, 1:3]"
   ]
  },
  {
   "cell_type": "code",
   "execution_count": 62,
   "id": "beautiful-specification",
   "metadata": {},
   "outputs": [],
   "source": [
    "non_burn_df.columns = (\"nth_week\", \"weekday_info\")"
   ]
  },
  {
   "cell_type": "code",
   "execution_count": 63,
   "id": "fantastic-rebecca",
   "metadata": {},
   "outputs": [],
   "source": [
    "sample_df[\"nth_week\"] = non_burn_df.nth_week\n",
    "sample_df[\"weekday_info\"] = non_burn_df.weekday_info.map(weekdic)"
   ]
  },
  {
   "cell_type": "code",
   "execution_count": 64,
   "id": "advisory-hometown",
   "metadata": {},
   "outputs": [
    {
     "data": {
      "text/plain": [
       "array([2, 0, 4, 3])"
      ]
     },
     "execution_count": 64,
     "metadata": {},
     "output_type": "execute_result"
    }
   ],
   "source": [
    "RESOURCE = 5\n",
    "\n",
    "sample_df.iloc[:, RESOURCE] = sample_df.iloc[:, RESOURCE].map(weekdic)\n",
    "sample_df.iloc[:, RESOURCE].unique()"
   ]
  },
  {
   "cell_type": "code",
   "execution_count": 65,
   "id": "athletic-purse",
   "metadata": {},
   "outputs": [
    {
     "data": {
      "text/html": [
       "<div>\n",
       "<style scoped>\n",
       "    .dataframe tbody tr th:only-of-type {\n",
       "        vertical-align: middle;\n",
       "    }\n",
       "\n",
       "    .dataframe tbody tr th {\n",
       "        vertical-align: top;\n",
       "    }\n",
       "\n",
       "    .dataframe thead tr th {\n",
       "        text-align: left;\n",
       "    }\n",
       "</style>\n",
       "<table border=\"1\" class=\"dataframe\">\n",
       "  <thead>\n",
       "    <tr>\n",
       "      <th></th>\n",
       "      <th colspan=\"2\" halign=\"left\">資源  ペット</th>\n",
       "    </tr>\n",
       "    <tr>\n",
       "      <th></th>\n",
       "      <th>資源  ペット</th>\n",
       "      <th>資源  ペット</th>\n",
       "    </tr>\n",
       "  </thead>\n",
       "  <tbody>\n",
       "    <tr>\n",
       "      <th>0</th>\n",
       "      <td>2</td>\n",
       "      <td>NaN</td>\n",
       "    </tr>\n",
       "    <tr>\n",
       "      <th>8</th>\n",
       "      <td>0</td>\n",
       "      <td>NaN</td>\n",
       "    </tr>\n",
       "    <tr>\n",
       "      <th>14</th>\n",
       "      <td>4</td>\n",
       "      <td>NaN</td>\n",
       "    </tr>\n",
       "    <tr>\n",
       "      <th>19</th>\n",
       "      <td>3</td>\n",
       "      <td>NaN</td>\n",
       "    </tr>\n",
       "  </tbody>\n",
       "</table>\n",
       "</div>"
      ],
      "text/plain": [
       "   資源  ペット        \n",
       "   資源  ペット 資源  ペット\n",
       "0        2     NaN\n",
       "8        0     NaN\n",
       "14       4     NaN\n",
       "19       3     NaN"
      ]
     },
     "execution_count": 65,
     "metadata": {},
     "output_type": "execute_result"
    }
   ],
   "source": [
    "pd.concat([sample_df.iloc[:, RESOURCE], sample_df.iloc[:, RESOURCE].map(weekdic)], axis=1).drop_duplicates()"
   ]
  },
  {
   "cell_type": "code",
   "execution_count": 66,
   "id": "weekly-franchise",
   "metadata": {},
   "outputs": [
    {
     "data": {
      "text/plain": [
       "array([2, 3, 0, 1])"
      ]
     },
     "execution_count": 66,
     "metadata": {},
     "output_type": "execute_result"
    }
   ],
   "source": [
    "VALUABLES = 6\n",
    "\n",
    "sample_df.iloc[:, VALUABLES] = sample_df.iloc[:, VALUABLES].map(weekdic)\n",
    "sample_df.iloc[:, VALUABLES].unique()"
   ]
  },
  {
   "cell_type": "code",
   "execution_count": 68,
   "id": "pregnant-probe",
   "metadata": {},
   "outputs": [
    {
     "data": {
      "text/plain": [
       "0              NaN\n",
       "1       1～18,23～27\n",
       "2            19～22\n",
       "3             1～21\n",
       "4            22の一部\n",
       "5              1～6\n",
       "6             7～22\n",
       "7              NaN\n",
       "8              NaN\n",
       "9       673のみ米ケ崎町会\n",
       "10             NaN\n",
       "11             NaN\n",
       "12             NaN\n",
       "13             NaN\n",
       "14             NaN\n",
       "15      1～11,23～39\n",
       "16           12～22\n",
       "17           京葉線沿い\n",
       "18     400番台 春日神社側\n",
       "19             NaN\n",
       "20    1,8～11,30～33\n",
       "21       2～5,14～28\n",
       "22             NaN\n",
       "23             NaN\n",
       "24             NaN\n",
       "25             NaN\n",
       "26             NaN\n",
       "Name: (番地詳細, 番地詳細), dtype: object"
      ]
     },
     "execution_count": 68,
     "metadata": {},
     "output_type": "execute_result"
    }
   ],
   "source": [
    "DISTRICT_COL = 7\n",
    "sample_df.iloc[:, DISTRICT_COL]"
   ]
  },
  {
   "cell_type": "code",
   "execution_count": 89,
   "id": "bored-intro",
   "metadata": {},
   "outputs": [],
   "source": [
    "def get_json(row):\n",
    "    out_list = []\n",
    "    for garbage_type in range(1, 4):\n",
    "        nth_week = -1 # 不燃ごみのみ利用する。他のごみは毎週収集する\n",
    "        day_or_night = -1 # 昼夜の指定がされているのは可燃ごみだけ\n",
    "        area_id = row[1]\n",
    "        if garbage_type == 1:\n",
    "            day_or_night = row.iloc[DAY_NIGHT_COLUMN]\n",
    "            weekday_info = row.iloc[BURNABLE_WD]\n",
    "            \n",
    "        elif garbage_type == 2: # non_burnable\n",
    "            nth_week = row.iloc[8]\n",
    "            weekday_info = row.iloc[9]\n",
    "            \n",
    "        elif garbage_type == 3: # resources / 資源\n",
    "            weekday_info = row.iloc[RESOURCE]\n",
    "            \n",
    "        elif garbage_type == 4: # 有価物\n",
    "            weekday_info = row.iloc[VALUABLES]\n",
    "\n",
    "        out_list.append({\n",
    "            \"area_id\": area_id,\n",
    "            \"garbage_type\": garbage_type,\n",
    "            \"day_or_night\":day_or_night,\n",
    "            \"nth_week\":nth_week,\n",
    "            \"weekday_info\":weekday_info,\n",
    "        })\n",
    "    return out_list\n"
   ]
  },
  {
   "cell_type": "code",
   "execution_count": 90,
   "id": "surprised-candidate",
   "metadata": {},
   "outputs": [
    {
     "data": {
      "text/plain": [
       "[{'area_id': '旭町1丁目',\n",
       "  'garbage_type': 1,\n",
       "  'day_or_night': 1,\n",
       "  'nth_week': -1,\n",
       "  'weekday_info': '0,3'},\n",
       " {'area_id': '旭町1丁目',\n",
       "  'garbage_type': 2,\n",
       "  'day_or_night': -1,\n",
       "  'nth_week': '2',\n",
       "  'weekday_info': 3},\n",
       " {'area_id': '旭町1丁目',\n",
       "  'garbage_type': 3,\n",
       "  'day_or_night': -1,\n",
       "  'nth_week': -1,\n",
       "  'weekday_info': 2}]"
      ]
     },
     "execution_count": 90,
     "metadata": {},
     "output_type": "execute_result"
    }
   ],
   "source": [
    "sample_df.apply(get_json, axis=1)[0]"
   ]
  },
  {
   "cell_type": "code",
   "execution_count": 88,
   "id": "studied-mixture",
   "metadata": {},
   "outputs": [
    {
     "data": {
      "text/plain": [
       "((10,),\n",
       " MultiIndex([(         '町 名',     '町 名'),\n",
       "             (         '町 名',   '町 名.1'),\n",
       "             (          '可燃',      '可燃'),\n",
       "             (          '可燃',    '可燃.1'),\n",
       "             (          '不燃',      '不燃'),\n",
       "             (     '資源  ペット', '資源  ペット'),\n",
       "             (         '有価物',     '有価物'),\n",
       "             (        '番地詳細',    '番地詳細'),\n",
       "             (    'nth_week',        ''),\n",
       "             ('weekday_info',        '')],\n",
       "            ))"
      ]
     },
     "execution_count": 88,
     "metadata": {},
     "output_type": "execute_result"
    }
   ],
   "source": [
    "sample_df.columns.shape, sample_df.columns"
   ]
  },
  {
   "cell_type": "code",
   "execution_count": 6,
   "id": "descending-clerk",
   "metadata": {},
   "outputs": [
    {
     "name": "stdout",
     "output_type": "stream",
     "text": [
      "Collecting openpyxl\n",
      "  Downloading openpyxl-3.0.7-py2.py3-none-any.whl (243 kB)\n",
      "\u001b[K     |████████████████████████████████| 243 kB 2.5 MB/s eta 0:00:01\n",
      "\u001b[?25hCollecting et-xmlfile\n",
      "  Downloading et_xmlfile-1.0.1.tar.gz (8.4 kB)\n",
      "Building wheels for collected packages: et-xmlfile\n",
      "  Building wheel for et-xmlfile (setup.py) ... \u001b[?25ldone\n",
      "\u001b[?25h  Created wheel for et-xmlfile: filename=et_xmlfile-1.0.1-py3-none-any.whl size=8913 sha256=1d9529294f0008efa36911b55fbb1eb753edf3bac5985481ff6366cf5f3e0906\n",
      "  Stored in directory: /home/jovyan/.cache/pip/wheels/6e/df/38/abda47b884e3e25f9f9b6430e5ce44c47670758a50c0c51759\n",
      "Successfully built et-xmlfile\n",
      "Installing collected packages: et-xmlfile, openpyxl\n",
      "Successfully installed et-xmlfile-1.0.1 openpyxl-3.0.7\n"
     ]
    }
   ],
   "source": [
    "!pip install openpyxl"
   ]
  },
  {
   "cell_type": "code",
   "execution_count": 9,
   "id": "powered-medicaid",
   "metadata": {},
   "outputs": [
    {
     "data": {
      "text/html": [
       "<div>\n",
       "<style scoped>\n",
       "    .dataframe tbody tr th:only-of-type {\n",
       "        vertical-align: middle;\n",
       "    }\n",
       "\n",
       "    .dataframe tbody tr th {\n",
       "        vertical-align: top;\n",
       "    }\n",
       "\n",
       "    .dataframe thead th {\n",
       "        text-align: right;\n",
       "    }\n",
       "</style>\n",
       "<table border=\"1\" class=\"dataframe\">\n",
       "  <thead>\n",
       "    <tr style=\"text-align: right;\">\n",
       "      <th></th>\n",
       "      <th>町 名</th>\n",
       "      <th>Unnamed: 2</th>\n",
       "      <th>可燃</th>\n",
       "      <th>Unnamed: 4</th>\n",
       "      <th>不燃</th>\n",
       "      <th>資源  ペット</th>\n",
       "      <th>有価物</th>\n",
       "      <th>番地詳細</th>\n",
       "      <th>nth_week</th>\n",
       "      <th>weekday_info</th>\n",
       "      <th>town_name</th>\n",
       "      <th>district_name</th>\n",
       "    </tr>\n",
       "  </thead>\n",
       "  <tbody>\n",
       "    <tr>\n",
       "      <th>0</th>\n",
       "      <td>あ</td>\n",
       "      <td>旭町1丁目</td>\n",
       "      <td>0,3</td>\n",
       "      <td>1</td>\n",
       "      <td>2木</td>\n",
       "      <td>2</td>\n",
       "      <td>2.0</td>\n",
       "      <td>NaN</td>\n",
       "      <td>2</td>\n",
       "      <td>3</td>\n",
       "      <td>旭町</td>\n",
       "      <td>1丁目</td>\n",
       "    </tr>\n",
       "    <tr>\n",
       "      <th>1</th>\n",
       "      <td>あ</td>\n",
       "      <td>旭町2丁目</td>\n",
       "      <td>0,3</td>\n",
       "      <td>1</td>\n",
       "      <td>4木</td>\n",
       "      <td>2</td>\n",
       "      <td>2.0</td>\n",
       "      <td>1～18,23～27</td>\n",
       "      <td>4</td>\n",
       "      <td>3</td>\n",
       "      <td>旭町</td>\n",
       "      <td>2丁目</td>\n",
       "    </tr>\n",
       "    <tr>\n",
       "      <th>2</th>\n",
       "      <td>あ</td>\n",
       "      <td>旭町2丁目</td>\n",
       "      <td>0,3</td>\n",
       "      <td>1</td>\n",
       "      <td>4木</td>\n",
       "      <td>2</td>\n",
       "      <td>3.0</td>\n",
       "      <td>19～22</td>\n",
       "      <td>4</td>\n",
       "      <td>3</td>\n",
       "      <td>旭町</td>\n",
       "      <td>2丁目</td>\n",
       "    </tr>\n",
       "    <tr>\n",
       "      <th>3</th>\n",
       "      <td>あ</td>\n",
       "      <td>旭町3丁目</td>\n",
       "      <td>0,3</td>\n",
       "      <td>1</td>\n",
       "      <td>4木</td>\n",
       "      <td>2</td>\n",
       "      <td>2.0</td>\n",
       "      <td>1～21</td>\n",
       "      <td>4</td>\n",
       "      <td>3</td>\n",
       "      <td>旭町</td>\n",
       "      <td>3丁目</td>\n",
       "    </tr>\n",
       "    <tr>\n",
       "      <th>4</th>\n",
       "      <td>あ</td>\n",
       "      <td>旭町3丁目</td>\n",
       "      <td>0,3</td>\n",
       "      <td>1</td>\n",
       "      <td>4木</td>\n",
       "      <td>2</td>\n",
       "      <td>3.0</td>\n",
       "      <td>22の一部</td>\n",
       "      <td>4</td>\n",
       "      <td>3</td>\n",
       "      <td>旭町</td>\n",
       "      <td>3丁目</td>\n",
       "    </tr>\n",
       "    <tr>\n",
       "      <th>...</th>\n",
       "      <td>...</td>\n",
       "      <td>...</td>\n",
       "      <td>...</td>\n",
       "      <td>...</td>\n",
       "      <td>...</td>\n",
       "      <td>...</td>\n",
       "      <td>...</td>\n",
       "      <td>...</td>\n",
       "      <td>...</td>\n",
       "      <td>...</td>\n",
       "      <td>...</td>\n",
       "      <td>...</td>\n",
       "    </tr>\n",
       "    <tr>\n",
       "      <th>570</th>\n",
       "      <td>や</td>\n",
       "      <td>山手1～3丁目</td>\n",
       "      <td>2,5</td>\n",
       "      <td>1</td>\n",
       "      <td>2木</td>\n",
       "      <td>2</td>\n",
       "      <td>2.0</td>\n",
       "      <td>NaN</td>\n",
       "      <td>2</td>\n",
       "      <td>3</td>\n",
       "      <td>山手</td>\n",
       "      <td>1～3丁目</td>\n",
       "    </tr>\n",
       "    <tr>\n",
       "      <th>571</th>\n",
       "      <td>や</td>\n",
       "      <td>山野町</td>\n",
       "      <td>2,5</td>\n",
       "      <td>1</td>\n",
       "      <td>4月</td>\n",
       "      <td>4</td>\n",
       "      <td>1.0</td>\n",
       "      <td>NaN</td>\n",
       "      <td>4</td>\n",
       "      <td>0</td>\n",
       "      <td>山野町</td>\n",
       "      <td>NaN</td>\n",
       "    </tr>\n",
       "    <tr>\n",
       "      <th>572</th>\n",
       "      <td>わ</td>\n",
       "      <td>若松1丁目</td>\n",
       "      <td>2,5</td>\n",
       "      <td>1</td>\n",
       "      <td>2火</td>\n",
       "      <td>0</td>\n",
       "      <td>4.0</td>\n",
       "      <td>2～17</td>\n",
       "      <td>2</td>\n",
       "      <td>1</td>\n",
       "      <td>若松</td>\n",
       "      <td>1丁目</td>\n",
       "    </tr>\n",
       "    <tr>\n",
       "      <th>573</th>\n",
       "      <td>わ</td>\n",
       "      <td>若松1丁目</td>\n",
       "      <td>2,5</td>\n",
       "      <td>1</td>\n",
       "      <td>2火</td>\n",
       "      <td>0</td>\n",
       "      <td>0.0</td>\n",
       "      <td>1</td>\n",
       "      <td>2</td>\n",
       "      <td>1</td>\n",
       "      <td>若松</td>\n",
       "      <td>1丁目</td>\n",
       "    </tr>\n",
       "    <tr>\n",
       "      <th>574</th>\n",
       "      <td>わ</td>\n",
       "      <td>若松2・3丁目</td>\n",
       "      <td>2,5</td>\n",
       "      <td>1</td>\n",
       "      <td>4火</td>\n",
       "      <td>0</td>\n",
       "      <td>4.0</td>\n",
       "      <td>NaN</td>\n",
       "      <td>4</td>\n",
       "      <td>1</td>\n",
       "      <td>若松</td>\n",
       "      <td>2・3丁目</td>\n",
       "    </tr>\n",
       "  </tbody>\n",
       "</table>\n",
       "<p>575 rows × 12 columns</p>\n",
       "</div>"
      ],
      "text/plain": [
       "    町 名 Unnamed: 2   可燃  Unnamed: 4  不燃  資源  ペット  有価物        番地詳細  nth_week  \\\n",
       "0     あ      旭町1丁目  0,3           1  2木        2  2.0         NaN         2   \n",
       "1     あ      旭町2丁目  0,3           1  4木        2  2.0  1～18,23～27         4   \n",
       "2     あ      旭町2丁目  0,3           1  4木        2  3.0       19～22         4   \n",
       "3     あ      旭町3丁目  0,3           1  4木        2  2.0        1～21         4   \n",
       "4     あ      旭町3丁目  0,3           1  4木        2  3.0       22の一部         4   \n",
       "..   ..        ...  ...         ...  ..      ...  ...         ...       ...   \n",
       "570   や    山手1～3丁目  2,5           1  2木        2  2.0         NaN         2   \n",
       "571   や        山野町  2,5           1  4月        4  1.0         NaN         4   \n",
       "572   わ      若松1丁目  2,5           1  2火        0  4.0        2～17         2   \n",
       "573   わ      若松1丁目  2,5           1  2火        0  0.0           1         2   \n",
       "574   わ    若松2・3丁目  2,5           1  4火        0  4.0         NaN         4   \n",
       "\n",
       "     weekday_info town_name district_name  \n",
       "0               3        旭町           1丁目  \n",
       "1               3        旭町           2丁目  \n",
       "2               3        旭町           2丁目  \n",
       "3               3        旭町           3丁目  \n",
       "4               3        旭町           3丁目  \n",
       "..            ...       ...           ...  \n",
       "570             3        山手         1～3丁目  \n",
       "571             0       山野町           NaN  \n",
       "572             1        若松           1丁目  \n",
       "573             1        若松           1丁目  \n",
       "574             1        若松         2・3丁目  \n",
       "\n",
       "[575 rows x 12 columns]"
      ]
     },
     "execution_count": 9,
     "metadata": {},
     "output_type": "execute_result"
    }
   ],
   "source": [
    "import pandas as pd\n",
    "# pd.read_excel(\"./trash_collection_days.xlsx\")\n",
    "pd.read_csv(\"./mybot/data/sample_df.csv\")"
   ]
  },
  {
   "cell_type": "code",
   "execution_count": 11,
   "id": "metallic-space",
   "metadata": {},
   "outputs": [],
   "source": [
    "df = pd.read_csv(\"./mybot/data/area_df.csv\")"
   ]
  },
  {
   "cell_type": "code",
   "execution_count": 15,
   "id": "proper-alfred",
   "metadata": {},
   "outputs": [
    {
     "data": {
      "text/plain": [
       "count    331.000000\n",
       "mean       9.465257\n",
       "std        8.810522\n",
       "min        1.000000\n",
       "25%        4.000000\n",
       "50%        7.000000\n",
       "75%       11.000000\n",
       "max       57.000000\n",
       "Name: address_name, dtype: float64"
      ]
     },
     "execution_count": 15,
     "metadata": {},
     "output_type": "execute_result"
    }
   ],
   "source": [
    "\n",
    "df.address_name.map(len, na_action=\"ignore\").describe()"
   ]
  },
  {
   "cell_type": "code",
   "execution_count": 18,
   "id": "driving-wildlife",
   "metadata": {},
   "outputs": [
    {
     "data": {
      "text/plain": [
       "array([[421, '前貝塚町', nan,\n",
       "        '100番台,208～211  819～822,844,845,855,856  860番台,870～872,885'],\n",
       "       [483, '前貝塚町', nan,\n",
       "        '100番台,208～211  819～822,844,845,855,856  860番台,870～872,885']],\n",
       "      dtype=object)"
      ]
     },
     "execution_count": 18,
     "metadata": {},
     "output_type": "execute_result"
    }
   ],
   "source": [
    "df[df.address_name.map(len, na_action=\"ignore\") == 57].to_numpy()"
   ]
  },
  {
   "cell_type": "code",
   "execution_count": 19,
   "id": "acting-malpractice",
   "metadata": {},
   "outputs": [
    {
     "data": {
      "text/html": [
       "<div>\n",
       "<style scoped>\n",
       "    .dataframe tbody tr th:only-of-type {\n",
       "        vertical-align: middle;\n",
       "    }\n",
       "\n",
       "    .dataframe tbody tr th {\n",
       "        vertical-align: top;\n",
       "    }\n",
       "\n",
       "    .dataframe thead th {\n",
       "        text-align: right;\n",
       "    }\n",
       "</style>\n",
       "<table border=\"1\" class=\"dataframe\">\n",
       "  <thead>\n",
       "    <tr style=\"text-align: right;\">\n",
       "      <th></th>\n",
       "      <th>index</th>\n",
       "      <th>town_name</th>\n",
       "      <th>district_name</th>\n",
       "      <th>address_name</th>\n",
       "    </tr>\n",
       "  </thead>\n",
       "  <tbody>\n",
       "    <tr>\n",
       "      <th>0</th>\n",
       "      <td>0</td>\n",
       "      <td>旭町</td>\n",
       "      <td>1丁目</td>\n",
       "      <td>NaN</td>\n",
       "    </tr>\n",
       "    <tr>\n",
       "      <th>1</th>\n",
       "      <td>1</td>\n",
       "      <td>旭町</td>\n",
       "      <td>2丁目</td>\n",
       "      <td>1～18,23～27</td>\n",
       "    </tr>\n",
       "    <tr>\n",
       "      <th>2</th>\n",
       "      <td>2</td>\n",
       "      <td>旭町</td>\n",
       "      <td>2丁目</td>\n",
       "      <td>19～22</td>\n",
       "    </tr>\n",
       "    <tr>\n",
       "      <th>3</th>\n",
       "      <td>3</td>\n",
       "      <td>旭町</td>\n",
       "      <td>3丁目</td>\n",
       "      <td>1～21</td>\n",
       "    </tr>\n",
       "    <tr>\n",
       "      <th>4</th>\n",
       "      <td>4</td>\n",
       "      <td>旭町</td>\n",
       "      <td>3丁目</td>\n",
       "      <td>22の一部</td>\n",
       "    </tr>\n",
       "    <tr>\n",
       "      <th>...</th>\n",
       "      <td>...</td>\n",
       "      <td>...</td>\n",
       "      <td>...</td>\n",
       "      <td>...</td>\n",
       "    </tr>\n",
       "    <tr>\n",
       "      <th>570</th>\n",
       "      <td>570</td>\n",
       "      <td>山手</td>\n",
       "      <td>1～3丁目</td>\n",
       "      <td>NaN</td>\n",
       "    </tr>\n",
       "    <tr>\n",
       "      <th>571</th>\n",
       "      <td>571</td>\n",
       "      <td>山野町</td>\n",
       "      <td>NaN</td>\n",
       "      <td>NaN</td>\n",
       "    </tr>\n",
       "    <tr>\n",
       "      <th>572</th>\n",
       "      <td>572</td>\n",
       "      <td>若松</td>\n",
       "      <td>1丁目</td>\n",
       "      <td>2～17</td>\n",
       "    </tr>\n",
       "    <tr>\n",
       "      <th>573</th>\n",
       "      <td>573</td>\n",
       "      <td>若松</td>\n",
       "      <td>1丁目</td>\n",
       "      <td>1</td>\n",
       "    </tr>\n",
       "    <tr>\n",
       "      <th>574</th>\n",
       "      <td>574</td>\n",
       "      <td>若松</td>\n",
       "      <td>2・3丁目</td>\n",
       "      <td>NaN</td>\n",
       "    </tr>\n",
       "  </tbody>\n",
       "</table>\n",
       "<p>575 rows × 4 columns</p>\n",
       "</div>"
      ],
      "text/plain": [
       "     index town_name district_name address_name\n",
       "0        0        旭町           1丁目          NaN\n",
       "1        1        旭町           2丁目   1～18,23～27\n",
       "2        2        旭町           2丁目        19～22\n",
       "3        3        旭町           3丁目         1～21\n",
       "4        4        旭町           3丁目        22の一部\n",
       "..     ...       ...           ...          ...\n",
       "570    570        山手         1～3丁目          NaN\n",
       "571    571       山野町           NaN          NaN\n",
       "572    572        若松           1丁目         2～17\n",
       "573    573        若松           1丁目            1\n",
       "574    574        若松         2・3丁目          NaN\n",
       "\n",
       "[575 rows x 4 columns]"
      ]
     },
     "execution_count": 19,
     "metadata": {},
     "output_type": "execute_result"
    }
   ],
   "source": [
    "df"
   ]
  },
  {
   "cell_type": "code",
   "execution_count": null,
   "id": "smaller-wyoming",
   "metadata": {},
   "outputs": [],
   "source": []
  }
 ],
 "metadata": {
  "kernelspec": {
   "display_name": "Python 3",
   "language": "python",
   "name": "python3"
  },
  "language_info": {
   "codemirror_mode": {
    "name": "ipython",
    "version": 3
   },
   "file_extension": ".py",
   "mimetype": "text/x-python",
   "name": "python",
   "nbconvert_exporter": "python",
   "pygments_lexer": "ipython3",
   "version": "3.8.8"
  }
 },
 "nbformat": 4,
 "nbformat_minor": 5
}
