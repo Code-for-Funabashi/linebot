{
 "cells": [
  {
   "cell_type": "code",
   "execution_count": 4,
   "id": "touched-thesaurus",
   "metadata": {},
   "outputs": [
    {
     "name": "stdout",
     "output_type": "stream",
     "text": [
      "Collecting lxml\n",
      "  Downloading lxml-4.6.3-cp38-cp38-manylinux1_x86_64.whl (5.4 MB)\n",
      "\u001b[K     |████████████████████████████████| 5.4 MB 2.5 MB/s eta 0:00:01     |█████████▏                      | 1.6 MB 2.5 MB/s eta 0:00:02\n",
      "\u001b[?25hInstalling collected packages: lxml\n",
      "Successfully installed lxml-4.6.3\n",
      "Note: you may need to restart the kernel to use updated packages.\n"
     ]
    }
   ],
   "source": [
    "pip install lxml"
   ]
  },
  {
   "cell_type": "code",
   "execution_count": 1,
   "id": "chief-embassy",
   "metadata": {},
   "outputs": [],
   "source": [
    "import pandas as pd"
   ]
  },
  {
   "cell_type": "code",
   "execution_count": 4,
   "id": "wired-meditation",
   "metadata": {},
   "outputs": [],
   "source": [
    "sample_df = pd.read_html(\"./bargage.html\")[1]"
   ]
  },
  {
   "cell_type": "code",
   "execution_count": 11,
   "id": "manufactured-deputy",
   "metadata": {},
   "outputs": [],
   "source": [
    "DAY_NIGHT_COLUMN = 3\n",
    "sample_df.iloc[:, DAY_NIGHT_COLUMN] = sample_df.iloc[:, DAY_NIGHT_COLUMN].map(lambda x: x==\"(夜)\").astype(int)"
   ]
  },
  {
   "cell_type": "code",
   "execution_count": 14,
   "id": "effective-membership",
   "metadata": {},
   "outputs": [],
   "source": [
    "weekdic = {\"月\":0, \"火\":1, \"水\":2, \"木\":3, \"金\":4, \"土\":5, \"日\":6}"
   ]
  },
  {
   "cell_type": "code",
   "execution_count": 60,
   "id": "danish-algebra",
   "metadata": {},
   "outputs": [
    {
     "data": {
      "text/html": [
       "<div>\n",
       "<style scoped>\n",
       "    .dataframe tbody tr th:only-of-type {\n",
       "        vertical-align: middle;\n",
       "    }\n",
       "\n",
       "    .dataframe tbody tr th {\n",
       "        vertical-align: top;\n",
       "    }\n",
       "\n",
       "    .dataframe thead tr th {\n",
       "        text-align: left;\n",
       "    }\n",
       "</style>\n",
       "<table border=\"1\" class=\"dataframe\">\n",
       "  <thead>\n",
       "    <tr>\n",
       "      <th></th>\n",
       "      <th colspan=\"2\" halign=\"left\">町 名</th>\n",
       "      <th colspan=\"2\" halign=\"left\">可燃</th>\n",
       "      <th>不燃</th>\n",
       "      <th>資源  ペット</th>\n",
       "      <th>有価物</th>\n",
       "      <th>番地詳細</th>\n",
       "    </tr>\n",
       "    <tr>\n",
       "      <th></th>\n",
       "      <th>町 名</th>\n",
       "      <th>町 名.1</th>\n",
       "      <th>可燃</th>\n",
       "      <th>可燃.1</th>\n",
       "      <th>不燃</th>\n",
       "      <th>資源  ペット</th>\n",
       "      <th>有価物</th>\n",
       "      <th>番地詳細</th>\n",
       "    </tr>\n",
       "  </thead>\n",
       "  <tbody>\n",
       "    <tr>\n",
       "      <th>0</th>\n",
       "      <td>あ</td>\n",
       "      <td>旭町1丁目</td>\n",
       "      <td>0,3</td>\n",
       "      <td>1</td>\n",
       "      <td>2木</td>\n",
       "      <td>水</td>\n",
       "      <td>水</td>\n",
       "      <td>NaN</td>\n",
       "    </tr>\n",
       "    <tr>\n",
       "      <th>1</th>\n",
       "      <td>あ</td>\n",
       "      <td>旭町2丁目</td>\n",
       "      <td>0,3</td>\n",
       "      <td>1</td>\n",
       "      <td>4木</td>\n",
       "      <td>水</td>\n",
       "      <td>水</td>\n",
       "      <td>1～18,23～27</td>\n",
       "    </tr>\n",
       "    <tr>\n",
       "      <th>2</th>\n",
       "      <td>あ</td>\n",
       "      <td>旭町2丁目</td>\n",
       "      <td>0,3</td>\n",
       "      <td>1</td>\n",
       "      <td>4木</td>\n",
       "      <td>水</td>\n",
       "      <td>木</td>\n",
       "      <td>19～22</td>\n",
       "    </tr>\n",
       "    <tr>\n",
       "      <th>3</th>\n",
       "      <td>あ</td>\n",
       "      <td>旭町3丁目</td>\n",
       "      <td>0,3</td>\n",
       "      <td>1</td>\n",
       "      <td>4木</td>\n",
       "      <td>水</td>\n",
       "      <td>水</td>\n",
       "      <td>1～21</td>\n",
       "    </tr>\n",
       "    <tr>\n",
       "      <th>4</th>\n",
       "      <td>あ</td>\n",
       "      <td>旭町3丁目</td>\n",
       "      <td>0,3</td>\n",
       "      <td>1</td>\n",
       "      <td>4木</td>\n",
       "      <td>水</td>\n",
       "      <td>木</td>\n",
       "      <td>22の一部</td>\n",
       "    </tr>\n",
       "  </tbody>\n",
       "</table>\n",
       "</div>"
      ],
      "text/plain": [
       "  町 名          可燃       不燃 資源  ペット 有価物        番地詳細\n",
       "  町 名  町 名.1   可燃 可燃.1  不燃 資源  ペット 有価物        番地詳細\n",
       "0   あ  旭町1丁目  0,3    1  2木       水   水         NaN\n",
       "1   あ  旭町2丁目  0,3    1  4木       水   水  1～18,23～27\n",
       "2   あ  旭町2丁目  0,3    1  4木       水   木       19～22\n",
       "3   あ  旭町3丁目  0,3    1  4木       水   水        1～21\n",
       "4   あ  旭町3丁目  0,3    1  4木       水   木       22の一部"
      ]
     },
     "execution_count": 60,
     "metadata": {},
     "output_type": "execute_result"
    }
   ],
   "source": [
    "sample_df.head()"
   ]
  },
  {
   "cell_type": "code",
   "execution_count": 58,
   "id": "finished-above",
   "metadata": {},
   "outputs": [],
   "source": [
    "# sample_df.iloc[:, BURNABLE_WD]"
   ]
  },
  {
   "cell_type": "code",
   "execution_count": 35,
   "id": "fancy-publicity",
   "metadata": {},
   "outputs": [],
   "source": [
    "# 可燃\n",
    "BURNABLE_WD = 2"
   ]
  },
  {
   "cell_type": "code",
   "execution_count": 59,
   "id": "wound-evaluation",
   "metadata": {},
   "outputs": [],
   "source": [
    "sample_df.iloc[:, BURNABLE_WD] = sample_df.iloc[:, BURNABLE_WD].map(\n",
    "            lambda x: \",\".join([str(weekdic[wd]) for wd in list(x)])\n",
    ")"
   ]
  },
  {
   "cell_type": "code",
   "execution_count": 61,
   "id": "wrong-parcel",
   "metadata": {},
   "outputs": [],
   "source": [
    "# 不燃\n",
    "NON_BURNABLE_WD = 4\n",
    "\n",
    "non_burn_df = sample_df.iloc[:, NON_BURNABLE_WD].str.split(\"\", expand=True).iloc[:, 1:3]"
   ]
  },
  {
   "cell_type": "code",
   "execution_count": 62,
   "id": "ancient-surrey",
   "metadata": {},
   "outputs": [],
   "source": [
    "non_burn_df.columns = (\"nth_week\", \"weekday_info\")"
   ]
  },
  {
   "cell_type": "code",
   "execution_count": 63,
   "id": "false-saturday",
   "metadata": {},
   "outputs": [],
   "source": [
    "sample_df[\"nth_week\"] = non_burn_df.nth_week\n",
    "sample_df[\"weekday_info\"] = non_burn_df.weekday_info.map(weekdic)"
   ]
  },
  {
   "cell_type": "code",
   "execution_count": 64,
   "id": "gross-renaissance",
   "metadata": {},
   "outputs": [
    {
     "data": {
      "text/plain": [
       "array([2, 0, 4, 3])"
      ]
     },
     "execution_count": 64,
     "metadata": {},
     "output_type": "execute_result"
    }
   ],
   "source": [
    "RESOURCE = 5\n",
    "\n",
    "sample_df.iloc[:, RESOURCE] = sample_df.iloc[:, RESOURCE].map(weekdic)\n",
    "sample_df.iloc[:, RESOURCE].unique()"
   ]
  },
  {
   "cell_type": "code",
   "execution_count": 65,
   "id": "killing-module",
   "metadata": {},
   "outputs": [
    {
     "data": {
      "text/html": [
       "<div>\n",
       "<style scoped>\n",
       "    .dataframe tbody tr th:only-of-type {\n",
       "        vertical-align: middle;\n",
       "    }\n",
       "\n",
       "    .dataframe tbody tr th {\n",
       "        vertical-align: top;\n",
       "    }\n",
       "\n",
       "    .dataframe thead tr th {\n",
       "        text-align: left;\n",
       "    }\n",
       "</style>\n",
       "<table border=\"1\" class=\"dataframe\">\n",
       "  <thead>\n",
       "    <tr>\n",
       "      <th></th>\n",
       "      <th colspan=\"2\" halign=\"left\">資源  ペット</th>\n",
       "    </tr>\n",
       "    <tr>\n",
       "      <th></th>\n",
       "      <th>資源  ペット</th>\n",
       "      <th>資源  ペット</th>\n",
       "    </tr>\n",
       "  </thead>\n",
       "  <tbody>\n",
       "    <tr>\n",
       "      <th>0</th>\n",
       "      <td>2</td>\n",
       "      <td>NaN</td>\n",
       "    </tr>\n",
       "    <tr>\n",
       "      <th>8</th>\n",
       "      <td>0</td>\n",
       "      <td>NaN</td>\n",
       "    </tr>\n",
       "    <tr>\n",
       "      <th>14</th>\n",
       "      <td>4</td>\n",
       "      <td>NaN</td>\n",
       "    </tr>\n",
       "    <tr>\n",
       "      <th>19</th>\n",
       "      <td>3</td>\n",
       "      <td>NaN</td>\n",
       "    </tr>\n",
       "  </tbody>\n",
       "</table>\n",
       "</div>"
      ],
      "text/plain": [
       "   資源  ペット        \n",
       "   資源  ペット 資源  ペット\n",
       "0        2     NaN\n",
       "8        0     NaN\n",
       "14       4     NaN\n",
       "19       3     NaN"
      ]
     },
     "execution_count": 65,
     "metadata": {},
     "output_type": "execute_result"
    }
   ],
   "source": [
    "pd.concat([sample_df.iloc[:, RESOURCE], sample_df.iloc[:, RESOURCE].map(weekdic)], axis=1).drop_duplicates()"
   ]
  },
  {
   "cell_type": "code",
   "execution_count": 66,
   "id": "mysterious-charleston",
   "metadata": {},
   "outputs": [
    {
     "data": {
      "text/plain": [
       "array([2, 3, 0, 1])"
      ]
     },
     "execution_count": 66,
     "metadata": {},
     "output_type": "execute_result"
    }
   ],
   "source": [
    "VALUABLES = 6\n",
    "\n",
    "sample_df.iloc[:, VALUABLES] = sample_df.iloc[:, VALUABLES].map(weekdic)\n",
    "sample_df.iloc[:, VALUABLES].unique()"
   ]
  },
  {
   "cell_type": "code",
   "execution_count": 68,
   "id": "divine-award",
   "metadata": {},
   "outputs": [
    {
     "data": {
      "text/plain": [
       "0              NaN\n",
       "1       1～18,23～27\n",
       "2            19～22\n",
       "3             1～21\n",
       "4            22の一部\n",
       "5              1～6\n",
       "6             7～22\n",
       "7              NaN\n",
       "8              NaN\n",
       "9       673のみ米ケ崎町会\n",
       "10             NaN\n",
       "11             NaN\n",
       "12             NaN\n",
       "13             NaN\n",
       "14             NaN\n",
       "15      1～11,23～39\n",
       "16           12～22\n",
       "17           京葉線沿い\n",
       "18     400番台 春日神社側\n",
       "19             NaN\n",
       "20    1,8～11,30～33\n",
       "21       2～5,14～28\n",
       "22             NaN\n",
       "23             NaN\n",
       "24             NaN\n",
       "25             NaN\n",
       "26             NaN\n",
       "Name: (番地詳細, 番地詳細), dtype: object"
      ]
     },
     "execution_count": 68,
     "metadata": {},
     "output_type": "execute_result"
    }
   ],
   "source": [
    "DISTRICT_COL = 7\n",
    "sample_df.iloc[:, DISTRICT_COL]"
   ]
  },
  {
   "cell_type": "code",
   "execution_count": 89,
   "id": "fossil-zimbabwe",
   "metadata": {},
   "outputs": [],
   "source": [
    "def get_json(row):\n",
    "    out_list = []\n",
    "    for garbage_type in range(1, 4):\n",
    "        nth_week = -1 # 不燃ごみのみ利用する。他のごみは毎週収集する\n",
    "        day_or_night = -1 # 昼夜の指定がされているのは可燃ごみだけ\n",
    "        area_id = row[1]\n",
    "        if garbage_type == 1:\n",
    "            day_or_night = row.iloc[DAY_NIGHT_COLUMN]\n",
    "            weekday_info = row.iloc[BURNABLE_WD]\n",
    "            \n",
    "        elif garbage_type == 2: # non_burnable\n",
    "            nth_week = row.iloc[8]\n",
    "            weekday_info = row.iloc[9]\n",
    "            \n",
    "        elif garbage_type == 3: # resources / 資源\n",
    "            weekday_info = row.iloc[RESOURCE]\n",
    "            \n",
    "        elif garbage_type == 4: # 有価物\n",
    "            weekday_info = row.iloc[VALUABLES]\n",
    "\n",
    "        out_list.append({\n",
    "            \"area_id\": area_id,\n",
    "            \"garbage_type\": garbage_type,\n",
    "            \"day_or_night\":day_or_night,\n",
    "            \"nth_week\":nth_week,\n",
    "            \"weekday_info\":weekday_info,\n",
    "        })\n",
    "    return out_list\n"
   ]
  },
  {
   "cell_type": "code",
   "execution_count": 90,
   "id": "blocked-jacob",
   "metadata": {},
   "outputs": [
    {
     "data": {
      "text/plain": [
       "[{'area_id': '旭町1丁目',\n",
       "  'garbage_type': 1,\n",
       "  'day_or_night': 1,\n",
       "  'nth_week': -1,\n",
       "  'weekday_info': '0,3'},\n",
       " {'area_id': '旭町1丁目',\n",
       "  'garbage_type': 2,\n",
       "  'day_or_night': -1,\n",
       "  'nth_week': '2',\n",
       "  'weekday_info': 3},\n",
       " {'area_id': '旭町1丁目',\n",
       "  'garbage_type': 3,\n",
       "  'day_or_night': -1,\n",
       "  'nth_week': -1,\n",
       "  'weekday_info': 2}]"
      ]
     },
     "execution_count": 90,
     "metadata": {},
     "output_type": "execute_result"
    }
   ],
   "source": [
    "sample_df.apply(get_json, axis=1)[0]"
   ]
  },
  {
   "cell_type": "code",
   "execution_count": 88,
   "id": "rapid-campus",
   "metadata": {},
   "outputs": [
    {
     "data": {
      "text/plain": [
       "((10,),\n",
       " MultiIndex([(         '町 名',     '町 名'),\n",
       "             (         '町 名',   '町 名.1'),\n",
       "             (          '可燃',      '可燃'),\n",
       "             (          '可燃',    '可燃.1'),\n",
       "             (          '不燃',      '不燃'),\n",
       "             (     '資源  ペット', '資源  ペット'),\n",
       "             (         '有価物',     '有価物'),\n",
       "             (        '番地詳細',    '番地詳細'),\n",
       "             (    'nth_week',        ''),\n",
       "             ('weekday_info',        '')],\n",
       "            ))"
      ]
     },
     "execution_count": 88,
     "metadata": {},
     "output_type": "execute_result"
    }
   ],
   "source": [
    "sample_df.columns.shape, sample_df.columns"
   ]
  },
  {
   "cell_type": "code",
   "execution_count": null,
   "id": "remarkable-function",
   "metadata": {},
   "outputs": [],
   "source": []
  }
 ],
 "metadata": {
  "kernelspec": {
   "display_name": "Python 3",
   "language": "python",
   "name": "python3"
  },
  "language_info": {
   "codemirror_mode": {
    "name": "ipython",
    "version": 3
   },
   "file_extension": ".py",
   "mimetype": "text/x-python",
   "name": "python",
   "nbconvert_exporter": "python",
   "pygments_lexer": "ipython3",
   "version": "3.8.8"
  }
 },
 "nbformat": 4,
 "nbformat_minor": 5
}
